{
  "cells": [
    {
      "cell_type": "markdown",
      "metadata": {
        "id": "53P3b15bdvkE"
      },
      "source": [
        "# Shakespeare LSTM"
      ]
    },
    {
      "cell_type": "markdown",
      "metadata": {
        "id": "vvfmjkFudvkG"
      },
      "source": [
        "## About Dataset\n",
        "Download: http://www.gutenberg.org/files/100/old/1994-01-100.zip\n",
        "\n",
        "How to use it: https://github.com/TalwalkarLab/leaf/tree/master/data/shakespeare\n",
        "\n",
        "Go to the directory and run the following command in the terminal.\n",
        "```\n",
        "./preprocess.sh -s niid --sf 0.2 -k 0 -t sample -tf 0.8\n",
        "```"
      ]
    },
    {
      "cell_type": "markdown",
      "metadata": {
        "id": "XOp-VjrKdvkI"
      },
      "source": [
        "## About Experiment\n",
        "\n",
        "(See Chapter 3)\n",
        "\n",
        "**Task**\n",
        "\n",
        "On this data we train a stacked character-level LSTM language model, which after reading each character in a line, predicts the next character.\n",
        "\n",
        "**Architecture**\n",
        "\n",
        "- The model takes a series of characters as input and embeds each of these into a learned 8 dimensional space. (embedding_len = 8)\n",
        "- The embedded characters are then processed through 2 LSTM layers, each with 256 nodes. (num_layers=2, n_hidden = 256)\n",
        "- Finally the output of the second LSTM layer is sent to a softmax output layer with one node per character.\n",
        "- The full model has 866,578 parameters, and we trained using an unroll length of 80 characters. (seq_len = 80, num_classes = 80)"
      ]
    },
    {
      "cell_type": "code",
      "execution_count": null,
      "metadata": {
        "id": "lILHgoiUdvkJ"
      },
      "outputs": [],
      "source": [
        "%matplotlib inline\n",
        "from IPython.display import clear_output\n",
        "import os\n",
        "from copy import deepcopy\n",
        "\n",
        "import torch\n",
        "from torch.utils.data import TensorDataset\n",
        "from torchvision import datasets, transforms\n",
        "import pandas as pd\n",
        "import numpy as np\n",
        "import matplotlib.pyplot as plt\n",
        "\n",
        "# from models import ConvNet\n",
        "from helper import ExperimentLogger, display_train_stats\n",
        "from fl_devices import Server, Client\n",
        "from data_utils import split_noniid, CustomSubset\n",
        "\n",
        "\n",
        "torch.manual_seed(42)\n",
        "np.random.seed(42)"
      ]
    },
    {
      "cell_type": "code",
      "execution_count": null,
      "metadata": {
        "id": "4ZMsSinwdvkK"
      },
      "outputs": [],
      "source": [
        "from data_utils import get_shakespeare\n",
        "\n",
        "train_path = 'all_data_niid_2_keep_0_train_9.json'\n",
        "test_path = 'all_data_niid_2_keep_0_test_9.json'\n",
        "\n",
        "train_input, train_target, train_client = get_shakespeare(train_path)\n",
        "test_input, test_target, _ = get_shakespeare(test_path)"
      ]
    },
    {
      "cell_type": "code",
      "execution_count": null,
      "metadata": {
        "colab": {
          "base_uri": "https://localhost:8080/"
        },
        "id": "HXMbwZsodvkL",
        "outputId": "718cf30a-88d1-4209-e197-a4379d3aaff9"
      },
      "outputs": [
        {
          "output_type": "execute_result",
          "data": {
            "text/plain": [
              "(742106, 742106, 71784, 71784)"
            ]
          },
          "metadata": {},
          "execution_count": 6
        }
      ],
      "source": [
        "len(train_input), len(train_target), len(test_input), len(test_target)"
      ]
    },
    {
      "cell_type": "code",
      "execution_count": null,
      "metadata": {
        "id": "cnlUuHDHdvkM"
      },
      "outputs": [],
      "source": [
        "# Step_00. load data\n",
        "\n",
        "trainset = TensorDataset(torch.tensor(train_input), torch.tensor(train_target))\n",
        "trainloader = torch.utils.data.DataLoader(trainset, shuffle=True, num_workers=2)\n",
        "\n",
        "testset = TensorDataset(torch.tensor(test_input), torch.tensor(test_target))\n",
        "testloader = torch.utils.data.DataLoader(testset, shuffle=True, num_workers=2)\n",
        "\n",
        "train_idcs, test_idcs = np.arange(len(trainset)), np.arange(len(testset)) # in case of validating set\n",
        "train_labels = np.asarray(train_client)"
      ]
    },
    {
      "cell_type": "code",
      "execution_count": null,
      "metadata": {
        "id": "17Vf1xC5dvkM"
      },
      "outputs": [],
      "source": [
        "# Step_01. iid VS non-iid\n",
        "from data_utils import split_noniid\n",
        "\n",
        "client_noniid_idcs = split_noniid(train_idcs, train_labels, alpha=1, n_clients=100)\n",
        "client_noniid_data = [CustomSubset(trainset, idcs) for idcs in client_noniid_idcs]\n",
        "\n",
        "test_data = CustomSubset(testset, test_idcs, transforms.Compose([transforms.ToTensor()]))\n"
      ]
    },
    {
      "cell_type": "code",
      "execution_count": null,
      "metadata": {
        "id": "0ldqvFQ1dvkM"
      },
      "outputs": [],
      "source": [
        "# Step_04. Build models\n",
        "import torch.nn as nn\n",
        "import torch.nn.functional as F\n",
        "\n",
        "use_gpu = True\n",
        "use_gpu = use_gpu and torch.cuda.is_available()\n",
        "device = torch.device('cuda') if use_gpu else torch.device('cpu')\n",
        "\n",
        "class ModelLSTMShakespeare(nn.Module):\n",
        "    def __init__(self):\n",
        "        super(ModelLSTMShakespeare, self).__init__()\n",
        "        self.embedding_len = 8\n",
        "        self.seq_len = 80\n",
        "        self.num_classes = 80\n",
        "        self.n_hidden = 256\n",
        "        self.batch_size = 32\n",
        "\n",
        "        self.embeds = nn.Embedding(self.seq_len, self.embedding_len)\n",
        "        self.multi_lstm = nn.LSTM(input_size=self.embedding_len, hidden_size=self.n_hidden, num_layers=2, batch_first=True, dropout=0.5)\n",
        "        self.fc = nn.Linear(self.n_hidden, self.num_classes)\n",
        "\n",
        "    def forward(self, x, out_activation=False):\n",
        "        x = x.to(torch.int64)\n",
        "        x_ = self.embeds(x)\n",
        "        h0 = torch.rand(2, x_.size(0), self.n_hidden).to(device)\n",
        "        c0 = torch.rand(2, x_.size(0), self.n_hidden).to(device)\n",
        "        activation, (h_n, c_n) = self.multi_lstm(x_,(h0,c0))\n",
        "\n",
        "        fc_ = activation[:, -1, :]\n",
        "\n",
        "        output = self.fc(fc_)\n",
        "        if out_activation:\n",
        "            return output, activation\n",
        "        else:\n",
        "            return output\n",
        "\n"
      ]
    },
    {
      "cell_type": "code",
      "execution_count": null,
      "metadata": {
        "id": "AppAGk84dvkN"
      },
      "outputs": [],
      "source": [
        "# FL_settings\n",
        "from fl_devices import Server, Client\n",
        "\n",
        "batch_size = 128\n",
        "\n",
        "clients = [Client(ModelLSTMShakespeare, lambda x : torch.optim.SGD(x, lr=0.01, momentum=0.9), dat, idnum=i, batch_size=batch_size)\n",
        "           for i, dat in enumerate(client_noniid_data)]\n",
        "server = Server(ModelLSTMShakespeare, test_data)"
      ]
    },
    {
      "cell_type": "code",
      "execution_count": null,
      "metadata": {
        "id": "zLaDg8HfdvkN"
      },
      "outputs": [],
      "source": [
        "# Step_05. Training on iid data\n",
        "from helper import ExperimentLogger, display_train_stats\n",
        "\n",
        "def fl_train(server, clients, pct_participant=0.1, num_local_epochs=1, max_rounds=100, target_accuracy=0.97):\n",
        "\n",
        "    cfl_stats = ExperimentLogger()\n",
        "\n",
        "    for c_round in range(1, max_rounds+1):\n",
        "\n",
        "        if c_round == 1:\n",
        "            for client in clients:\n",
        "                client.synchronize_with_server(server)\n",
        "\n",
        "        participating_clients = server.select_clients(clients, frac=pct_participant)\n",
        "\n",
        "        for client in participating_clients:\n",
        "            train_stats = client.compute_weight_update(epochs=num_local_epochs)\n",
        "            client.reset()\n",
        "\n",
        "        server.aggregate_weight_updates(participating_clients)\n",
        "\n",
        "        acc_clients = [client.evaluate() for client in clients]\n",
        "\n",
        "        cfl_stats.log({\"acc_clients\" : acc_clients, \"rounds\" : c_round})\n",
        "\n",
        "        title = f\"C={pct_participant}, E={num_local_epochs}\"\n",
        "\n",
        "        display_train_stats(cfl_stats, max_rounds, title=title, target_accuracy=target_accuracy)\n",
        "\n",
        "        return cfl_stats\n"
      ]
    },
    {
      "cell_type": "code",
      "execution_count": null,
      "metadata": {
        "colab": {
          "base_uri": "https://localhost:8080/",
          "height": 410
        },
        "id": "0m7a91IxdvkN",
        "outputId": "21fc7e94-2c46-4017-d2d6-f3e11d428560"
      },
      "outputs": [
        {
          "output_type": "display_data",
          "data": {
            "text/plain": [
              "<Figure size 1200x400 with 1 Axes>"
            ],
            "image/png": "[encoded data removed]"
          },
          "metadata": {}
        }
      ],
      "source": [
        "fl_train(server, clients, num_local_epochs=5, max_rounds=300, target_accuracy=0.54)"
      ]
    },
    {
      "cell_type": "code",
      "source": [],
      "metadata": {
        "id": "ZY8Wti1BGBkJ"
      },
      "execution_count": null,
      "outputs": []
    }
  ],
  "metadata": {
    "kernelspec": {
      "display_name": "Python 3",
      "name": "python3"
    },
    "language_info": {
      "codemirror_mode": {
        "name": "ipython",
        "version": 3
      },
      "file_extension": ".py",
      "mimetype": "text/x-python",
      "name": "python",
      "nbconvert_exporter": "python",
      "pygments_lexer": "ipython3",
      "version": "3.12.2"
    },
    "colab": {
      "provenance": [],
      "machine_shape": "hm",
      "gpuType": "T4"
    },
    "accelerator": "GPU"
  },
  "nbformat": 4,
  "nbformat_minor": 0
}