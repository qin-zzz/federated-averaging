{
  "cells": [
    {
      "cell_type": "markdown",
      "metadata": {
        "id": "WJHooP9IN14B"
      },
      "source": [
        "# CIFAR10 Image Classification"
      ]
    },
    {
      "cell_type": "markdown",
      "metadata": {
        "id": "oIQSXGQjN14E"
      },
      "source": [
        "### Dataset\n",
        "The dataset consists of 10 classes of 32x32 images with three RGB channels.\n",
        "\n",
        "Tutorial: https://pytorch.org/tutorials/beginner/blitz/cifar10_tutorial.html\n"
      ]
    },
    {
      "cell_type": "markdown",
      "metadata": {
        "id": "hfc-_GLNN14F"
      },
      "source": [
        "### Model\n",
        "\n",
        "**Architecture**\n",
        "- The model architecture consists of two convolutional layers followed by two fully connected layers and then a linear transformation layer to produce logits, for a total of about 10^6 parameters.\n",
        "- FedSGD uses a learning-rate decay of 0.9934 per round; FedAvg uses B = 50, learning-rate decay of 0.99 per round, and E = 5.\n",
        "\n",
        "**FL Setting**\n",
        "- There are 50,000 training examples and 10,000 testing examples, which we partitioned into 100 clients each containing 500 training and 100 testing examples.\n",
        "- Since there isn’t a natural user partitioning of this data, we considered the balanced and IID setting.\n",
        "- The images are preprocessed as part of the training input pipeline, which consists of cropping the images to 24x24, randomly flipping left-right and adjusting the contrast, brightness and whitening.\n",
        "\n",
        "**Result**\n",
        "\n",
        "- FedAvg achieves a similar test accuracy of 85% after only 2,000 communication rounds."
      ]
    },
    {
      "cell_type": "code",
      "execution_count": null,
      "metadata": {
        "id": "KTRpY8VhN14G"
      },
      "outputs": [],
      "source": [
        "%matplotlib inline\n",
        "import torch\n",
        "from torchvision import datasets, transforms\n",
        "import pandas as pd\n",
        "import numpy as np\n",
        "import matplotlib.pyplot as plt\n",
        "\n",
        "torch.manual_seed(42)\n",
        "np.random.seed(42)\n"
      ]
    },
    {
      "cell_type": "code",
      "execution_count": null,
      "metadata": {
        "colab": {
          "base_uri": "https://localhost:8080/"
        },
        "id": "aq-S1DTzN14I",
        "outputId": "84e89451-5ba7-4334-c6ad-80f7c6f1a842"
      },
      "outputs": [
        {
          "output_type": "stream",
          "name": "stdout",
          "text": [
            "Files already downloaded and verified\n",
            "Files already downloaded and verified\n"
          ]
        }
      ],
      "source": [
        "# Step_00. load data\n",
        "transform = transforms.Compose(\n",
        "    [transforms.ToTensor(),\n",
        "     transforms.Normalize((0.5, 0.5, 0.5), (0.5, 0.5, 0.5))])\n",
        "\n",
        "trainset = datasets.CIFAR10(root='./data', train=True, download=True, transform=transform)\n",
        "trainloader = torch.utils.data.DataLoader(trainset, shuffle=True, num_workers=2)\n",
        "\n",
        "testset = datasets.CIFAR10(root='./data', train=False, download=True, transform=transform)\n",
        "testloader = torch.utils.data.DataLoader(testset, shuffle=False, num_workers=2)\n",
        "\n",
        "classes = ('plane', 'car', 'bird', 'cat',\n",
        "           'deer', 'dog', 'frog', 'horse', 'ship', 'truck')\n",
        "\n",
        "train_idcs, test_idcs = np.arange(len(trainset)), np.arange(len(testset))\n",
        "train_labels = np.asarray(trainset.targets)\n"
      ]
    },
    {
      "cell_type": "code",
      "execution_count": null,
      "metadata": {
        "id": "f4ufNknON14J"
      },
      "outputs": [],
      "source": [
        "# Step_01. only iid\n",
        "from data_utils import iid_partition, CustomSubset\n",
        "num_clients = 100\n",
        "client_iid_idcs = [list(range(i * len(trainset) // num_clients, (i + 1) * len(trainset) // num_clients)) for i in range(num_clients)]\n",
        "client_iid_data = [CustomSubset(trainset, idcs) for idcs in client_iid_idcs]\n",
        "\n",
        "test_data = CustomSubset(testset, test_idcs, transforms.Compose([transforms.ToTensor()]))\n"
      ]
    },
    {
      "cell_type": "code",
      "execution_count": null,
      "metadata": {
        "colab": {
          "base_uri": "https://localhost:8080/"
        },
        "id": "VJ7kP1XiN14J",
        "outputId": "d391658e-3aa8-41c5-9f52-e6e905a9ec3e"
      },
      "outputs": [
        {
          "output_type": "execute_result",
          "data": {
            "text/plain": [
              "array([[6, 9, 9, ..., 0, 1, 7],\n",
              "       [5, 8, 2, ..., 1, 3, 5],\n",
              "       [9, 4, 3, ..., 2, 7, 3],\n",
              "       ...,\n",
              "       [8, 2, 4, ..., 4, 9, 3],\n",
              "       [8, 9, 4, ..., 0, 0, 3],\n",
              "       [3, 8, 9, ..., 9, 1, 1]])"
            ]
          },
          "metadata": {},
          "execution_count": 14
        }
      ],
      "source": [
        "train_labels[client_iid_idcs]"
      ]
    },
    {
      "cell_type": "code",
      "source": [
        "train_labels[client_iid_idcs].shape"
      ],
      "metadata": {
        "colab": {
          "base_uri": "https://localhost:8080/"
        },
        "id": "MEyUH4eAa9d4",
        "outputId": "6fa5a989-33db-4f0d-a513-17a3610362fb"
      },
      "execution_count": null,
      "outputs": [
        {
          "output_type": "execute_result",
          "data": {
            "text/plain": [
              "(100, 500)"
            ]
          },
          "metadata": {},
          "execution_count": 16
        }
      ]
    },
    {
      "cell_type": "code",
      "execution_count": null,
      "metadata": {
        "id": "M5SRqdBaN14J"
      },
      "outputs": [],
      "source": [
        "# Step_04. Build models\n",
        "import torch.nn as nn\n",
        "import torch.nn.functional as F\n",
        "\n",
        "class CNNCifar(nn.Module):\n",
        "    def __init__(self):\n",
        "        super().__init__()\n",
        "        self.conv1 = nn.Conv2d(3, 6, 5)\n",
        "        self.pool = nn.MaxPool2d(2, 2)\n",
        "        self.conv2 = nn.Conv2d(6, 16, 5)\n",
        "        self.fc1 = nn.Linear(16 * 5 * 5, 120)\n",
        "        self.fc2 = nn.Linear(120, 84)\n",
        "        self.fc3 = nn.Linear(84, 10)\n",
        "\n",
        "    def forward(self, x):\n",
        "        x = self.pool(F.relu(self.conv1(x)))\n",
        "        x = self.pool(F.relu(self.conv2(x)))\n",
        "        x = torch.flatten(x, 1)\n",
        "        x = F.relu(self.fc1(x))\n",
        "        x = F.relu(self.fc2(x))\n",
        "        x = self.fc3(x)\n",
        "        return x\n",
        "\n"
      ]
    },
    {
      "cell_type": "code",
      "execution_count": null,
      "metadata": {
        "id": "Z40t0GF9N14K"
      },
      "outputs": [],
      "source": [
        "# FL_settings\n",
        "from fl_devices import Server, Client\n",
        "\n",
        "batch_size = 64\n",
        "\n",
        "cnn_iid_clients = [Client(CNNCifar, lambda x : torch.optim.SGD(x, lr=0.01), dat, idnum=i, batch_size = batch_size\n",
        ")\n",
        "           for i, dat in enumerate(client_iid_data)]\n",
        "cnn_iid_server = Server(CNNCifar, test_data)\n"
      ]
    },
    {
      "cell_type": "code",
      "execution_count": null,
      "metadata": {
        "id": "XQbHHWPgN14K"
      },
      "outputs": [],
      "source": [
        "# Step_05. Training on iid data\n",
        "from helper import ExperimentLogger, display_train_stats\n",
        "\n",
        "def fl_train(server, clients, pct_participant=0.1, num_local_epochs=1, max_rounds=100, target_accuracy=0.97):\n",
        "    cfl_stats = ExperimentLogger()\n",
        "\n",
        "    for c_round in range(1, max_rounds+1):\n",
        "\n",
        "        if c_round == 1:\n",
        "            for client in clients:\n",
        "                client.synchronize_with_server(server)\n",
        "\n",
        "        participating_clients = server.select_clients(clients, frac=pct_participant)\n",
        "\n",
        "        for client in participating_clients:\n",
        "            train_stats = client.compute_weight_update(epochs=num_local_epochs)\n",
        "            client.reset()\n",
        "\n",
        "        server.aggregate_weight_updates(participating_clients)\n",
        "\n",
        "        acc_clients = [client.evaluate() for client in clients]\n",
        "\n",
        "        cfl_stats.log({\"acc_clients\" : acc_clients, \"rounds\" : c_round})\n",
        "\n",
        "        title = f\"C={pct_participant}, E={num_local_epochs}\"\n",
        "\n",
        "        display_train_stats(cfl_stats, max_rounds, title=title, target_accuracy=target_accuracy)\n",
        "\n",
        "        return cfl_stats\n"
      ]
    },
    {
      "cell_type": "code",
      "execution_count": null,
      "metadata": {
        "scrolled": false,
        "colab": {
          "base_uri": "https://localhost:8080/",
          "height": 410
        },
        "id": "2IpoFHTwN14M",
        "outputId": "d9833444-8e59-4e62-8579-0159521460f1"
      },
      "outputs": [
        {
          "output_type": "display_data",
          "data": {
            "text/plain": [
              "<Figure size 1200x400 with 1 Axes>"
            ],
            "image/png": "[encoded data removed]"
          },
          "metadata": {}
        }
      ],
      "source": [
        "fl_train(cnn_iid_server, cnn_iid_clients, num_local_epochs=5, max_rounds=1000, target_accuracy=0.8)"
      ]
    },
    {
      "cell_type": "code",
      "execution_count": null,
      "metadata": {
        "id": "H058FbZNN14O"
      },
      "outputs": [],
      "source": []
    }
  ],
  "metadata": {
    "kernelspec": {
      "display_name": "Python 3",
      "name": "python3"
    },
    "language_info": {
      "codemirror_mode": {
        "name": "ipython",
        "version": 3
      },
      "file_extension": ".py",
      "mimetype": "text/x-python",
      "name": "python",
      "nbconvert_exporter": "python",
      "pygments_lexer": "ipython3",
      "version": "3.12.2"
    },
    "colab": {
      "provenance": [],
      "gpuType": "T4"
    },
    "accelerator": "GPU"
  },
  "nbformat": 4,
  "nbformat_minor": 0
}